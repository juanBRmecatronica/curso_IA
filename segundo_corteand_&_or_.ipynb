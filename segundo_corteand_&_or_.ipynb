{
  "nbformat": 4,
  "nbformat_minor": 0,
  "metadata": {
    "colab": {
      "provenance": [],
      "authorship_tag": "ABX9TyOU36LVk4mbCsC2W6VJzFI+",
      "include_colab_link": true
    },
    "kernelspec": {
      "name": "python3",
      "display_name": "Python 3"
    },
    "language_info": {
      "name": "python"
    }
  },
  "cells": [
    {
      "cell_type": "markdown",
      "metadata": {
        "id": "view-in-github",
        "colab_type": "text"
      },
      "source": [
        "<a href=\"https://colab.research.google.com/github/juanBRmecatronica/curso_IA/blob/main/segundo_corteand_%26_or_.ipynb\" target=\"_parent\"><img src=\"https://colab.research.google.com/assets/colab-badge.svg\" alt=\"Open In Colab\"/></a>"
      ]
    },
    {
      "cell_type": "markdown",
      "source": [
        "### **perceptron**"
      ],
      "metadata": {
        "id": "5Do8fwbixyCT"
      }
    },
    {
      "cell_type": "code",
      "execution_count": null,
      "metadata": {
        "id": "2UCwKMONxGY-"
      },
      "outputs": [],
      "source": [
        "import numpy as np\n",
        "import pandas as pd\n",
        "import matplotlib.pyplot as plt\n",
        "import seaborn as sns"
      ]
    },
    {
      "cell_type": "markdown",
      "source": [
        "data set: Tabla vaerdad compuerta AND."
      ],
      "metadata": {
        "id": "gtsgc-TUx9j5"
      }
    },
    {
      "cell_type": "code",
      "source": [
        "imputs= np.array([[0,0],[0,1],[1,0],[1,1]])\n",
        "outputs= np.array([0,0,0,1])"
      ],
      "metadata": {
        "id": "IS3sBXqdxura"
      },
      "execution_count": null,
      "outputs": []
    },
    {
      "cell_type": "code",
      "source": [
        "imputs"
      ],
      "metadata": {
        "colab": {
          "base_uri": "https://localhost:8080/"
        },
        "id": "rJcyKDmCPchY",
        "outputId": "6451ab76-636a-4e93-c147-ce656e3cce7d"
      },
      "execution_count": null,
      "outputs": [
        {
          "output_type": "execute_result",
          "data": {
            "text/plain": [
              "array([[0, 0],\n",
              "       [0, 1],\n",
              "       [1, 0],\n",
              "       [1, 1]])"
            ]
          },
          "metadata": {},
          "execution_count": 16
        }
      ]
    },
    {
      "cell_type": "code",
      "source": [
        "plt.scatter(imputs[:,0],imputs[:,1],marker=\"o\",c=outputs,edgecolor=\"k\")\n",
        "plt.xlabel('A')\n",
        "plt.ylabel('B')\n",
        "plt.show()"
      ],
      "metadata": {
        "colab": {
          "base_uri": "https://localhost:8080/",
          "height": 449
        },
        "id": "FlBahkO8ydty",
        "outputId": "405b4673-697b-4d65-e8a2-aa8f78fb6d6c"
      },
      "execution_count": null,
      "outputs": [
        {
          "output_type": "display_data",
          "data": {
            "text/plain": [
              "<Figure size 640x480 with 1 Axes>"
            ],
            "image/png": "[encoded data removed]"
          },
          "metadata": {}
        }
      ]
    },
    {
      "cell_type": "markdown",
      "source": [
        "### **paramaetros de entrenamiento**\n",
        "\n",
        "*   pesos W\n",
        "*   bias\n",
        "*   learning_rate\n",
        "\n",
        "\n"
      ],
      "metadata": {
        "id": "eEWPKMbwzQZ1"
      }
    },
    {
      "cell_type": "code",
      "source": [
        "weights= np.random.rand(2)\n",
        "bias= np.random.rand(1)\n",
        "learning_rate= 0.01"
      ],
      "metadata": {
        "id": "dxbZtUsQzpRU"
      },
      "execution_count": null,
      "outputs": []
    },
    {
      "cell_type": "code",
      "source": [
        "weights"
      ],
      "metadata": {
        "colab": {
          "base_uri": "https://localhost:8080/"
        },
        "id": "_BD_LZUC_Lxm",
        "outputId": "a9caa316-56f2-4937-91c7-cfe0b0463e9c"
      },
      "execution_count": null,
      "outputs": [
        {
          "output_type": "execute_result",
          "data": {
            "text/plain": [
              "array([0.59504312, 0.04247434])"
            ]
          },
          "metadata": {},
          "execution_count": 5
        }
      ]
    },
    {
      "cell_type": "code",
      "source": [
        "bias"
      ],
      "metadata": {
        "colab": {
          "base_uri": "https://localhost:8080/"
        },
        "id": "s5nV6Ec20DUH",
        "outputId": "5635608f-0a8e-4cd7-d125-e534d6f136d2"
      },
      "execution_count": null,
      "outputs": [
        {
          "output_type": "execute_result",
          "data": {
            "text/plain": [
              "array([0.50314669])"
            ]
          },
          "metadata": {},
          "execution_count": 6
        }
      ]
    },
    {
      "cell_type": "markdown",
      "source": [
        "modelo"
      ],
      "metadata": {
        "id": "-17R-4710V3a"
      }
    },
    {
      "cell_type": "code",
      "source": [
        "#definir una funcion para predecir\n",
        "def predict(inputs):\n",
        "  linear=  np.dot(inputs,weights)+bias\n",
        "  return np.where(linear>=0,1,0)"
      ],
      "metadata": {
        "id": "rtd-Vvb10Jet"
      },
      "execution_count": null,
      "outputs": []
    },
    {
      "cell_type": "code",
      "source": [
        "def linea(inputs):\n",
        "  linear=  -1*inputs+1.5\n",
        "  return linear"
      ],
      "metadata": {
        "id": "o8ZMDAsNTG4c"
      },
      "execution_count": null,
      "outputs": []
    },
    {
      "cell_type": "code",
      "source": [
        "plt.scatter(imputs[:,0],imputs[:,1],marker=\"o\",c=outputs,edgecolor=\"k\")\n",
        "plt.xlabel('A')\n",
        "plt.ylabel('B')\n",
        "plt.title(\"AND\")\n",
        "plt.plot(linea(imputs),color=\"red\")\n",
        "plt.show()"
      ],
      "metadata": {
        "colab": {
          "base_uri": "https://localhost:8080/",
          "height": 472
        },
        "id": "gLShN6thDBZX",
        "outputId": "7b3ba637-6939-489f-ef11-2e90d70df489"
      },
      "execution_count": null,
      "outputs": [
        {
          "output_type": "display_data",
          "data": {
            "text/plain": [
              "<Figure size 640x480 with 1 Axes>"
            ],
            "image/png": "[encoded data removed]"
          },
          "metadata": {}
        }
      ]
    },
    {
      "cell_type": "code",
      "source": [
        "def train(inputs,outputs,epochs):\n",
        "  global weights,bias\n",
        "  for epoch in range(epochs):\n",
        "    total_error = 0\n",
        "    for x, y in zip(inputs,outputs):\n",
        "      y_predic =predict(x)\n",
        "      error = y- y_predic\n",
        "      total_error += abs(error)\n",
        "      weights += learning_rate * error * x\n",
        "      bias += learning_rate * error\n",
        "      print(f\"Epoch {epoch} weight{weights}Total Error: {total_error}\")\n"
      ],
      "metadata": {
        "id": "-SYciwFz1iYR"
      },
      "execution_count": null,
      "outputs": []
    },
    {
      "cell_type": "code",
      "source": [
        "train(imputs,outputs,epochs=100)"
      ],
      "metadata": {
        "colab": {
          "base_uri": "https://localhost:8080/"
        },
        "id": "g3Cc3cMY3-Lz",
        "outputId": "70a4bedf-f698-4708-e3c1-22f549e64d0a"
      },
      "execution_count": null,
      "outputs": [
        {
          "output_type": "stream",
          "name": "stdout",
          "text": [
            "Epoch 0 weight[0.59504312 0.04247434]Total Error: [1]\n",
            "Epoch 0 weight[0.59504312 0.03247434]Total Error: [2]\n",
            "Epoch 0 weight[0.58504312 0.03247434]Total Error: [3]\n",
            "Epoch 0 weight[0.58504312 0.03247434]Total Error: [3]\n",
            "Epoch 1 weight[0.58504312 0.03247434]Total Error: [1]\n",
            "Epoch 1 weight[0.58504312 0.02247434]Total Error: [2]\n",
            "Epoch 1 weight[0.57504312 0.02247434]Total Error: [3]\n",
            "Epoch 1 weight[0.57504312 0.02247434]Total Error: [3]\n",
            "Epoch 2 weight[0.57504312 0.02247434]Total Error: [1]\n",
            "Epoch 2 weight[0.57504312 0.01247434]Total Error: [2]\n",
            "Epoch 2 weight[0.56504312 0.01247434]Total Error: [3]\n",
            "Epoch 2 weight[0.56504312 0.01247434]Total Error: [3]\n",
            "Epoch 3 weight[0.56504312 0.01247434]Total Error: [1]\n",
            "Epoch 3 weight[0.56504312 0.00247434]Total Error: [2]\n",
            "Epoch 3 weight[0.55504312 0.00247434]Total Error: [3]\n",
            "Epoch 3 weight[0.55504312 0.00247434]Total Error: [3]\n",
            "Epoch 4 weight[0.55504312 0.00247434]Total Error: [1]\n",
            "Epoch 4 weight[ 0.55504312 -0.00752566]Total Error: [2]\n",
            "Epoch 4 weight[ 0.54504312 -0.00752566]Total Error: [3]\n",
            "Epoch 4 weight[ 0.54504312 -0.00752566]Total Error: [3]\n",
            "Epoch 5 weight[ 0.54504312 -0.00752566]Total Error: [1]\n",
            "Epoch 5 weight[ 0.54504312 -0.01752566]Total Error: [2]\n",
            "Epoch 5 weight[ 0.53504312 -0.01752566]Total Error: [3]\n",
            "Epoch 5 weight[ 0.53504312 -0.01752566]Total Error: [3]\n",
            "Epoch 6 weight[ 0.53504312 -0.01752566]Total Error: [1]\n",
            "Epoch 6 weight[ 0.53504312 -0.02752566]Total Error: [2]\n",
            "Epoch 6 weight[ 0.52504312 -0.02752566]Total Error: [3]\n",
            "Epoch 6 weight[ 0.52504312 -0.02752566]Total Error: [3]\n",
            "Epoch 7 weight[ 0.52504312 -0.02752566]Total Error: [1]\n",
            "Epoch 7 weight[ 0.52504312 -0.03752566]Total Error: [2]\n",
            "Epoch 7 weight[ 0.51504312 -0.03752566]Total Error: [3]\n",
            "Epoch 7 weight[ 0.51504312 -0.03752566]Total Error: [3]\n",
            "Epoch 8 weight[ 0.51504312 -0.03752566]Total Error: [1]\n",
            "Epoch 8 weight[ 0.51504312 -0.04752566]Total Error: [2]\n",
            "Epoch 8 weight[ 0.50504312 -0.04752566]Total Error: [3]\n",
            "Epoch 8 weight[ 0.50504312 -0.04752566]Total Error: [3]\n",
            "Epoch 9 weight[ 0.50504312 -0.04752566]Total Error: [1]\n",
            "Epoch 9 weight[ 0.50504312 -0.05752566]Total Error: [2]\n",
            "Epoch 9 weight[ 0.49504312 -0.05752566]Total Error: [3]\n",
            "Epoch 9 weight[ 0.49504312 -0.05752566]Total Error: [3]\n",
            "Epoch 10 weight[ 0.49504312 -0.05752566]Total Error: [1]\n",
            "Epoch 10 weight[ 0.49504312 -0.06752566]Total Error: [2]\n",
            "Epoch 10 weight[ 0.48504312 -0.06752566]Total Error: [3]\n",
            "Epoch 10 weight[ 0.48504312 -0.06752566]Total Error: [3]\n",
            "Epoch 11 weight[ 0.48504312 -0.06752566]Total Error: [1]\n",
            "Epoch 11 weight[ 0.48504312 -0.07752566]Total Error: [2]\n",
            "Epoch 11 weight[ 0.47504312 -0.07752566]Total Error: [3]\n",
            "Epoch 11 weight[ 0.47504312 -0.07752566]Total Error: [3]\n",
            "Epoch 12 weight[ 0.47504312 -0.07752566]Total Error: [1]\n",
            "Epoch 12 weight[ 0.47504312 -0.08752566]Total Error: [2]\n",
            "Epoch 12 weight[ 0.46504312 -0.08752566]Total Error: [3]\n",
            "Epoch 12 weight[ 0.46504312 -0.08752566]Total Error: [3]\n",
            "Epoch 13 weight[ 0.46504312 -0.08752566]Total Error: [1]\n",
            "Epoch 13 weight[ 0.46504312 -0.09752566]Total Error: [2]\n",
            "Epoch 13 weight[ 0.45504312 -0.09752566]Total Error: [3]\n",
            "Epoch 13 weight[ 0.45504312 -0.09752566]Total Error: [3]\n",
            "Epoch 14 weight[ 0.45504312 -0.09752566]Total Error: [1]\n",
            "Epoch 14 weight[ 0.45504312 -0.09752566]Total Error: [1]\n",
            "Epoch 14 weight[ 0.44504312 -0.09752566]Total Error: [2]\n",
            "Epoch 14 weight[ 0.44504312 -0.09752566]Total Error: [2]\n",
            "Epoch 15 weight[ 0.44504312 -0.09752566]Total Error: [1]\n",
            "Epoch 15 weight[ 0.44504312 -0.09752566]Total Error: [1]\n",
            "Epoch 15 weight[ 0.43504312 -0.09752566]Total Error: [2]\n",
            "Epoch 15 weight[ 0.43504312 -0.09752566]Total Error: [2]\n",
            "Epoch 16 weight[ 0.43504312 -0.09752566]Total Error: [1]\n",
            "Epoch 16 weight[ 0.43504312 -0.09752566]Total Error: [1]\n",
            "Epoch 16 weight[ 0.42504312 -0.09752566]Total Error: [2]\n",
            "Epoch 16 weight[ 0.42504312 -0.09752566]Total Error: [2]\n",
            "Epoch 17 weight[ 0.42504312 -0.09752566]Total Error: [1]\n",
            "Epoch 17 weight[ 0.42504312 -0.09752566]Total Error: [1]\n",
            "Epoch 17 weight[ 0.41504312 -0.09752566]Total Error: [2]\n",
            "Epoch 17 weight[ 0.41504312 -0.09752566]Total Error: [2]\n",
            "Epoch 18 weight[ 0.41504312 -0.09752566]Total Error: [1]\n",
            "Epoch 18 weight[ 0.41504312 -0.09752566]Total Error: [1]\n",
            "Epoch 18 weight[ 0.40504312 -0.09752566]Total Error: [2]\n",
            "Epoch 18 weight[ 0.40504312 -0.09752566]Total Error: [2]\n",
            "Epoch 19 weight[ 0.40504312 -0.09752566]Total Error: [0]\n",
            "Epoch 19 weight[ 0.40504312 -0.09752566]Total Error: [0]\n",
            "Epoch 19 weight[ 0.39504312 -0.09752566]Total Error: [1]\n",
            "Epoch 19 weight[ 0.39504312 -0.09752566]Total Error: [1]\n",
            "Epoch 20 weight[ 0.39504312 -0.09752566]Total Error: [0]\n",
            "Epoch 20 weight[ 0.39504312 -0.09752566]Total Error: [0]\n",
            "Epoch 20 weight[ 0.38504312 -0.09752566]Total Error: [1]\n",
            "Epoch 20 weight[ 0.38504312 -0.09752566]Total Error: [1]\n",
            "Epoch 21 weight[ 0.38504312 -0.09752566]Total Error: [0]\n",
            "Epoch 21 weight[ 0.38504312 -0.09752566]Total Error: [0]\n",
            "Epoch 21 weight[ 0.37504312 -0.09752566]Total Error: [1]\n",
            "Epoch 21 weight[ 0.37504312 -0.09752566]Total Error: [1]\n",
            "Epoch 22 weight[ 0.37504312 -0.09752566]Total Error: [0]\n",
            "Epoch 22 weight[ 0.37504312 -0.09752566]Total Error: [0]\n",
            "Epoch 22 weight[ 0.36504312 -0.09752566]Total Error: [1]\n",
            "Epoch 22 weight[ 0.36504312 -0.09752566]Total Error: [1]\n",
            "Epoch 23 weight[ 0.36504312 -0.09752566]Total Error: [0]\n",
            "Epoch 23 weight[ 0.36504312 -0.09752566]Total Error: [0]\n",
            "Epoch 23 weight[ 0.35504312 -0.09752566]Total Error: [1]\n",
            "Epoch 23 weight[ 0.35504312 -0.09752566]Total Error: [1]\n",
            "Epoch 24 weight[ 0.35504312 -0.09752566]Total Error: [0]\n",
            "Epoch 24 weight[ 0.35504312 -0.09752566]Total Error: [0]\n",
            "Epoch 24 weight[ 0.34504312 -0.09752566]Total Error: [1]\n",
            "Epoch 24 weight[ 0.34504312 -0.09752566]Total Error: [1]\n",
            "Epoch 25 weight[ 0.34504312 -0.09752566]Total Error: [0]\n",
            "Epoch 25 weight[ 0.34504312 -0.09752566]Total Error: [0]\n",
            "Epoch 25 weight[ 0.33504312 -0.09752566]Total Error: [1]\n",
            "Epoch 25 weight[ 0.33504312 -0.09752566]Total Error: [1]\n",
            "Epoch 26 weight[ 0.33504312 -0.09752566]Total Error: [0]\n",
            "Epoch 26 weight[ 0.33504312 -0.09752566]Total Error: [0]\n",
            "Epoch 26 weight[ 0.32504312 -0.09752566]Total Error: [1]\n",
            "Epoch 26 weight[ 0.32504312 -0.09752566]Total Error: [1]\n",
            "Epoch 27 weight[ 0.32504312 -0.09752566]Total Error: [0]\n",
            "Epoch 27 weight[ 0.32504312 -0.09752566]Total Error: [0]\n",
            "Epoch 27 weight[ 0.31504312 -0.09752566]Total Error: [1]\n",
            "Epoch 27 weight[ 0.31504312 -0.09752566]Total Error: [1]\n",
            "Epoch 28 weight[ 0.31504312 -0.09752566]Total Error: [0]\n",
            "Epoch 28 weight[ 0.31504312 -0.09752566]Total Error: [0]\n",
            "Epoch 28 weight[ 0.30504312 -0.09752566]Total Error: [1]\n",
            "Epoch 28 weight[ 0.30504312 -0.09752566]Total Error: [1]\n",
            "Epoch 29 weight[ 0.30504312 -0.09752566]Total Error: [0]\n",
            "Epoch 29 weight[ 0.30504312 -0.09752566]Total Error: [0]\n",
            "Epoch 29 weight[ 0.29504312 -0.09752566]Total Error: [1]\n",
            "Epoch 29 weight[ 0.29504312 -0.09752566]Total Error: [1]\n",
            "Epoch 30 weight[ 0.29504312 -0.09752566]Total Error: [0]\n",
            "Epoch 30 weight[ 0.29504312 -0.09752566]Total Error: [0]\n",
            "Epoch 30 weight[ 0.28504312 -0.09752566]Total Error: [1]\n",
            "Epoch 30 weight[ 0.28504312 -0.09752566]Total Error: [1]\n",
            "Epoch 31 weight[ 0.28504312 -0.09752566]Total Error: [0]\n",
            "Epoch 31 weight[ 0.28504312 -0.09752566]Total Error: [0]\n",
            "Epoch 31 weight[ 0.27504312 -0.09752566]Total Error: [1]\n",
            "Epoch 31 weight[ 0.27504312 -0.09752566]Total Error: [1]\n",
            "Epoch 32 weight[ 0.27504312 -0.09752566]Total Error: [0]\n",
            "Epoch 32 weight[ 0.27504312 -0.09752566]Total Error: [0]\n",
            "Epoch 32 weight[ 0.26504312 -0.09752566]Total Error: [1]\n",
            "Epoch 32 weight[ 0.26504312 -0.09752566]Total Error: [1]\n",
            "Epoch 33 weight[ 0.26504312 -0.09752566]Total Error: [0]\n",
            "Epoch 33 weight[ 0.26504312 -0.09752566]Total Error: [0]\n",
            "Epoch 33 weight[ 0.25504312 -0.09752566]Total Error: [1]\n",
            "Epoch 33 weight[ 0.26504312 -0.08752566]Total Error: [2]\n",
            "Epoch 34 weight[ 0.26504312 -0.08752566]Total Error: [0]\n",
            "Epoch 34 weight[ 0.26504312 -0.08752566]Total Error: [0]\n",
            "Epoch 34 weight[ 0.25504312 -0.08752566]Total Error: [1]\n",
            "Epoch 34 weight[ 0.25504312 -0.08752566]Total Error: [1]\n",
            "Epoch 35 weight[ 0.25504312 -0.08752566]Total Error: [0]\n",
            "Epoch 35 weight[ 0.25504312 -0.08752566]Total Error: [0]\n",
            "Epoch 35 weight[ 0.24504312 -0.08752566]Total Error: [1]\n",
            "Epoch 35 weight[ 0.25504312 -0.07752566]Total Error: [2]\n",
            "Epoch 36 weight[ 0.25504312 -0.07752566]Total Error: [0]\n",
            "Epoch 36 weight[ 0.25504312 -0.07752566]Total Error: [0]\n",
            "Epoch 36 weight[ 0.24504312 -0.07752566]Total Error: [1]\n",
            "Epoch 36 weight[ 0.25504312 -0.06752566]Total Error: [2]\n",
            "Epoch 37 weight[ 0.25504312 -0.06752566]Total Error: [0]\n",
            "Epoch 37 weight[ 0.25504312 -0.06752566]Total Error: [0]\n",
            "Epoch 37 weight[ 0.24504312 -0.06752566]Total Error: [1]\n",
            "Epoch 37 weight[ 0.24504312 -0.06752566]Total Error: [1]\n",
            "Epoch 38 weight[ 0.24504312 -0.06752566]Total Error: [0]\n",
            "Epoch 38 weight[ 0.24504312 -0.06752566]Total Error: [0]\n",
            "Epoch 38 weight[ 0.23504312 -0.06752566]Total Error: [1]\n",
            "Epoch 38 weight[ 0.24504312 -0.05752566]Total Error: [2]\n",
            "Epoch 39 weight[ 0.24504312 -0.05752566]Total Error: [0]\n",
            "Epoch 39 weight[ 0.24504312 -0.05752566]Total Error: [0]\n",
            "Epoch 39 weight[ 0.23504312 -0.05752566]Total Error: [1]\n",
            "Epoch 39 weight[ 0.24504312 -0.04752566]Total Error: [2]\n",
            "Epoch 40 weight[ 0.24504312 -0.04752566]Total Error: [0]\n",
            "Epoch 40 weight[ 0.24504312 -0.04752566]Total Error: [0]\n",
            "Epoch 40 weight[ 0.23504312 -0.04752566]Total Error: [1]\n",
            "Epoch 40 weight[ 0.23504312 -0.04752566]Total Error: [1]\n",
            "Epoch 41 weight[ 0.23504312 -0.04752566]Total Error: [0]\n",
            "Epoch 41 weight[ 0.23504312 -0.04752566]Total Error: [0]\n",
            "Epoch 41 weight[ 0.22504312 -0.04752566]Total Error: [1]\n",
            "Epoch 41 weight[ 0.23504312 -0.03752566]Total Error: [2]\n",
            "Epoch 42 weight[ 0.23504312 -0.03752566]Total Error: [0]\n",
            "Epoch 42 weight[ 0.23504312 -0.03752566]Total Error: [0]\n",
            "Epoch 42 weight[ 0.22504312 -0.03752566]Total Error: [1]\n",
            "Epoch 42 weight[ 0.23504312 -0.02752566]Total Error: [2]\n",
            "Epoch 43 weight[ 0.23504312 -0.02752566]Total Error: [0]\n",
            "Epoch 43 weight[ 0.23504312 -0.02752566]Total Error: [0]\n",
            "Epoch 43 weight[ 0.22504312 -0.02752566]Total Error: [1]\n",
            "Epoch 43 weight[ 0.22504312 -0.02752566]Total Error: [1]\n",
            "Epoch 44 weight[ 0.22504312 -0.02752566]Total Error: [0]\n",
            "Epoch 44 weight[ 0.22504312 -0.02752566]Total Error: [0]\n",
            "Epoch 44 weight[ 0.21504312 -0.02752566]Total Error: [1]\n",
            "Epoch 44 weight[ 0.22504312 -0.01752566]Total Error: [2]\n",
            "Epoch 45 weight[ 0.22504312 -0.01752566]Total Error: [0]\n",
            "Epoch 45 weight[ 0.22504312 -0.01752566]Total Error: [0]\n",
            "Epoch 45 weight[ 0.21504312 -0.01752566]Total Error: [1]\n",
            "Epoch 45 weight[ 0.22504312 -0.00752566]Total Error: [2]\n",
            "Epoch 46 weight[ 0.22504312 -0.00752566]Total Error: [0]\n",
            "Epoch 46 weight[ 0.22504312 -0.00752566]Total Error: [0]\n",
            "Epoch 46 weight[ 0.21504312 -0.00752566]Total Error: [1]\n",
            "Epoch 46 weight[ 0.21504312 -0.00752566]Total Error: [1]\n",
            "Epoch 47 weight[ 0.21504312 -0.00752566]Total Error: [0]\n",
            "Epoch 47 weight[ 0.21504312 -0.00752566]Total Error: [0]\n",
            "Epoch 47 weight[ 0.20504312 -0.00752566]Total Error: [1]\n",
            "Epoch 47 weight[0.21504312 0.00247434]Total Error: [2]\n",
            "Epoch 48 weight[0.21504312 0.00247434]Total Error: [0]\n",
            "Epoch 48 weight[0.21504312 0.00247434]Total Error: [0]\n",
            "Epoch 48 weight[0.20504312 0.00247434]Total Error: [1]\n",
            "Epoch 48 weight[0.21504312 0.01247434]Total Error: [2]\n",
            "Epoch 49 weight[0.21504312 0.01247434]Total Error: [0]\n",
            "Epoch 49 weight[0.21504312 0.01247434]Total Error: [0]\n",
            "Epoch 49 weight[0.20504312 0.01247434]Total Error: [1]\n",
            "Epoch 49 weight[0.20504312 0.01247434]Total Error: [1]\n",
            "Epoch 50 weight[0.20504312 0.01247434]Total Error: [0]\n",
            "Epoch 50 weight[0.20504312 0.01247434]Total Error: [0]\n",
            "Epoch 50 weight[0.20504312 0.01247434]Total Error: [0]\n",
            "Epoch 50 weight[0.20504312 0.01247434]Total Error: [0]\n",
            "Epoch 51 weight[0.20504312 0.01247434]Total Error: [0]\n",
            "Epoch 51 weight[0.20504312 0.01247434]Total Error: [0]\n",
            "Epoch 51 weight[0.20504312 0.01247434]Total Error: [0]\n",
            "Epoch 51 weight[0.20504312 0.01247434]Total Error: [0]\n",
            "Epoch 52 weight[0.20504312 0.01247434]Total Error: [0]\n",
            "Epoch 52 weight[0.20504312 0.01247434]Total Error: [0]\n",
            "Epoch 52 weight[0.20504312 0.01247434]Total Error: [0]\n",
            "Epoch 52 weight[0.20504312 0.01247434]Total Error: [0]\n",
            "Epoch 53 weight[0.20504312 0.01247434]Total Error: [0]\n",
            "Epoch 53 weight[0.20504312 0.01247434]Total Error: [0]\n",
            "Epoch 53 weight[0.20504312 0.01247434]Total Error: [0]\n",
            "Epoch 53 weight[0.20504312 0.01247434]Total Error: [0]\n",
            "Epoch 54 weight[0.20504312 0.01247434]Total Error: [0]\n",
            "Epoch 54 weight[0.20504312 0.01247434]Total Error: [0]\n",
            "Epoch 54 weight[0.20504312 0.01247434]Total Error: [0]\n",
            "Epoch 54 weight[0.20504312 0.01247434]Total Error: [0]\n",
            "Epoch 55 weight[0.20504312 0.01247434]Total Error: [0]\n",
            "Epoch 55 weight[0.20504312 0.01247434]Total Error: [0]\n",
            "Epoch 55 weight[0.20504312 0.01247434]Total Error: [0]\n",
            "Epoch 55 weight[0.20504312 0.01247434]Total Error: [0]\n",
            "Epoch 56 weight[0.20504312 0.01247434]Total Error: [0]\n",
            "Epoch 56 weight[0.20504312 0.01247434]Total Error: [0]\n",
            "Epoch 56 weight[0.20504312 0.01247434]Total Error: [0]\n",
            "Epoch 56 weight[0.20504312 0.01247434]Total Error: [0]\n",
            "Epoch 57 weight[0.20504312 0.01247434]Total Error: [0]\n",
            "Epoch 57 weight[0.20504312 0.01247434]Total Error: [0]\n",
            "Epoch 57 weight[0.20504312 0.01247434]Total Error: [0]\n",
            "Epoch 57 weight[0.20504312 0.01247434]Total Error: [0]\n",
            "Epoch 58 weight[0.20504312 0.01247434]Total Error: [0]\n",
            "Epoch 58 weight[0.20504312 0.01247434]Total Error: [0]\n",
            "Epoch 58 weight[0.20504312 0.01247434]Total Error: [0]\n",
            "Epoch 58 weight[0.20504312 0.01247434]Total Error: [0]\n",
            "Epoch 59 weight[0.20504312 0.01247434]Total Error: [0]\n",
            "Epoch 59 weight[0.20504312 0.01247434]Total Error: [0]\n",
            "Epoch 59 weight[0.20504312 0.01247434]Total Error: [0]\n",
            "Epoch 59 weight[0.20504312 0.01247434]Total Error: [0]\n",
            "Epoch 60 weight[0.20504312 0.01247434]Total Error: [0]\n",
            "Epoch 60 weight[0.20504312 0.01247434]Total Error: [0]\n",
            "Epoch 60 weight[0.20504312 0.01247434]Total Error: [0]\n",
            "Epoch 60 weight[0.20504312 0.01247434]Total Error: [0]\n",
            "Epoch 61 weight[0.20504312 0.01247434]Total Error: [0]\n",
            "Epoch 61 weight[0.20504312 0.01247434]Total Error: [0]\n",
            "Epoch 61 weight[0.20504312 0.01247434]Total Error: [0]\n",
            "Epoch 61 weight[0.20504312 0.01247434]Total Error: [0]\n",
            "Epoch 62 weight[0.20504312 0.01247434]Total Error: [0]\n",
            "Epoch 62 weight[0.20504312 0.01247434]Total Error: [0]\n",
            "Epoch 62 weight[0.20504312 0.01247434]Total Error: [0]\n",
            "Epoch 62 weight[0.20504312 0.01247434]Total Error: [0]\n",
            "Epoch 63 weight[0.20504312 0.01247434]Total Error: [0]\n",
            "Epoch 63 weight[0.20504312 0.01247434]Total Error: [0]\n",
            "Epoch 63 weight[0.20504312 0.01247434]Total Error: [0]\n",
            "Epoch 63 weight[0.20504312 0.01247434]Total Error: [0]\n",
            "Epoch 64 weight[0.20504312 0.01247434]Total Error: [0]\n",
            "Epoch 64 weight[0.20504312 0.01247434]Total Error: [0]\n",
            "Epoch 64 weight[0.20504312 0.01247434]Total Error: [0]\n",
            "Epoch 64 weight[0.20504312 0.01247434]Total Error: [0]\n",
            "Epoch 65 weight[0.20504312 0.01247434]Total Error: [0]\n",
            "Epoch 65 weight[0.20504312 0.01247434]Total Error: [0]\n",
            "Epoch 65 weight[0.20504312 0.01247434]Total Error: [0]\n",
            "Epoch 65 weight[0.20504312 0.01247434]Total Error: [0]\n",
            "Epoch 66 weight[0.20504312 0.01247434]Total Error: [0]\n",
            "Epoch 66 weight[0.20504312 0.01247434]Total Error: [0]\n",
            "Epoch 66 weight[0.20504312 0.01247434]Total Error: [0]\n",
            "Epoch 66 weight[0.20504312 0.01247434]Total Error: [0]\n",
            "Epoch 67 weight[0.20504312 0.01247434]Total Error: [0]\n",
            "Epoch 67 weight[0.20504312 0.01247434]Total Error: [0]\n",
            "Epoch 67 weight[0.20504312 0.01247434]Total Error: [0]\n",
            "Epoch 67 weight[0.20504312 0.01247434]Total Error: [0]\n",
            "Epoch 68 weight[0.20504312 0.01247434]Total Error: [0]\n",
            "Epoch 68 weight[0.20504312 0.01247434]Total Error: [0]\n",
            "Epoch 68 weight[0.20504312 0.01247434]Total Error: [0]\n",
            "Epoch 68 weight[0.20504312 0.01247434]Total Error: [0]\n",
            "Epoch 69 weight[0.20504312 0.01247434]Total Error: [0]\n",
            "Epoch 69 weight[0.20504312 0.01247434]Total Error: [0]\n",
            "Epoch 69 weight[0.20504312 0.01247434]Total Error: [0]\n",
            "Epoch 69 weight[0.20504312 0.01247434]Total Error: [0]\n",
            "Epoch 70 weight[0.20504312 0.01247434]Total Error: [0]\n",
            "Epoch 70 weight[0.20504312 0.01247434]Total Error: [0]\n",
            "Epoch 70 weight[0.20504312 0.01247434]Total Error: [0]\n",
            "Epoch 70 weight[0.20504312 0.01247434]Total Error: [0]\n",
            "Epoch 71 weight[0.20504312 0.01247434]Total Error: [0]\n",
            "Epoch 71 weight[0.20504312 0.01247434]Total Error: [0]\n",
            "Epoch 71 weight[0.20504312 0.01247434]Total Error: [0]\n",
            "Epoch 71 weight[0.20504312 0.01247434]Total Error: [0]\n",
            "Epoch 72 weight[0.20504312 0.01247434]Total Error: [0]\n",
            "Epoch 72 weight[0.20504312 0.01247434]Total Error: [0]\n",
            "Epoch 72 weight[0.20504312 0.01247434]Total Error: [0]\n",
            "Epoch 72 weight[0.20504312 0.01247434]Total Error: [0]\n",
            "Epoch 73 weight[0.20504312 0.01247434]Total Error: [0]\n",
            "Epoch 73 weight[0.20504312 0.01247434]Total Error: [0]\n",
            "Epoch 73 weight[0.20504312 0.01247434]Total Error: [0]\n",
            "Epoch 73 weight[0.20504312 0.01247434]Total Error: [0]\n",
            "Epoch 74 weight[0.20504312 0.01247434]Total Error: [0]\n",
            "Epoch 74 weight[0.20504312 0.01247434]Total Error: [0]\n",
            "Epoch 74 weight[0.20504312 0.01247434]Total Error: [0]\n",
            "Epoch 74 weight[0.20504312 0.01247434]Total Error: [0]\n",
            "Epoch 75 weight[0.20504312 0.01247434]Total Error: [0]\n",
            "Epoch 75 weight[0.20504312 0.01247434]Total Error: [0]\n",
            "Epoch 75 weight[0.20504312 0.01247434]Total Error: [0]\n",
            "Epoch 75 weight[0.20504312 0.01247434]Total Error: [0]\n",
            "Epoch 76 weight[0.20504312 0.01247434]Total Error: [0]\n",
            "Epoch 76 weight[0.20504312 0.01247434]Total Error: [0]\n",
            "Epoch 76 weight[0.20504312 0.01247434]Total Error: [0]\n",
            "Epoch 76 weight[0.20504312 0.01247434]Total Error: [0]\n",
            "Epoch 77 weight[0.20504312 0.01247434]Total Error: [0]\n",
            "Epoch 77 weight[0.20504312 0.01247434]Total Error: [0]\n",
            "Epoch 77 weight[0.20504312 0.01247434]Total Error: [0]\n",
            "Epoch 77 weight[0.20504312 0.01247434]Total Error: [0]\n",
            "Epoch 78 weight[0.20504312 0.01247434]Total Error: [0]\n",
            "Epoch 78 weight[0.20504312 0.01247434]Total Error: [0]\n",
            "Epoch 78 weight[0.20504312 0.01247434]Total Error: [0]\n",
            "Epoch 78 weight[0.20504312 0.01247434]Total Error: [0]\n",
            "Epoch 79 weight[0.20504312 0.01247434]Total Error: [0]\n",
            "Epoch 79 weight[0.20504312 0.01247434]Total Error: [0]\n",
            "Epoch 79 weight[0.20504312 0.01247434]Total Error: [0]\n",
            "Epoch 79 weight[0.20504312 0.01247434]Total Error: [0]\n",
            "Epoch 80 weight[0.20504312 0.01247434]Total Error: [0]\n",
            "Epoch 80 weight[0.20504312 0.01247434]Total Error: [0]\n",
            "Epoch 80 weight[0.20504312 0.01247434]Total Error: [0]\n",
            "Epoch 80 weight[0.20504312 0.01247434]Total Error: [0]\n",
            "Epoch 81 weight[0.20504312 0.01247434]Total Error: [0]\n",
            "Epoch 81 weight[0.20504312 0.01247434]Total Error: [0]\n",
            "Epoch 81 weight[0.20504312 0.01247434]Total Error: [0]\n",
            "Epoch 81 weight[0.20504312 0.01247434]Total Error: [0]\n",
            "Epoch 82 weight[0.20504312 0.01247434]Total Error: [0]\n",
            "Epoch 82 weight[0.20504312 0.01247434]Total Error: [0]\n",
            "Epoch 82 weight[0.20504312 0.01247434]Total Error: [0]\n",
            "Epoch 82 weight[0.20504312 0.01247434]Total Error: [0]\n",
            "Epoch 83 weight[0.20504312 0.01247434]Total Error: [0]\n",
            "Epoch 83 weight[0.20504312 0.01247434]Total Error: [0]\n",
            "Epoch 83 weight[0.20504312 0.01247434]Total Error: [0]\n",
            "Epoch 83 weight[0.20504312 0.01247434]Total Error: [0]\n",
            "Epoch 84 weight[0.20504312 0.01247434]Total Error: [0]\n",
            "Epoch 84 weight[0.20504312 0.01247434]Total Error: [0]\n",
            "Epoch 84 weight[0.20504312 0.01247434]Total Error: [0]\n",
            "Epoch 84 weight[0.20504312 0.01247434]Total Error: [0]\n",
            "Epoch 85 weight[0.20504312 0.01247434]Total Error: [0]\n",
            "Epoch 85 weight[0.20504312 0.01247434]Total Error: [0]\n",
            "Epoch 85 weight[0.20504312 0.01247434]Total Error: [0]\n",
            "Epoch 85 weight[0.20504312 0.01247434]Total Error: [0]\n",
            "Epoch 86 weight[0.20504312 0.01247434]Total Error: [0]\n",
            "Epoch 86 weight[0.20504312 0.01247434]Total Error: [0]\n",
            "Epoch 86 weight[0.20504312 0.01247434]Total Error: [0]\n",
            "Epoch 86 weight[0.20504312 0.01247434]Total Error: [0]\n",
            "Epoch 87 weight[0.20504312 0.01247434]Total Error: [0]\n",
            "Epoch 87 weight[0.20504312 0.01247434]Total Error: [0]\n",
            "Epoch 87 weight[0.20504312 0.01247434]Total Error: [0]\n",
            "Epoch 87 weight[0.20504312 0.01247434]Total Error: [0]\n",
            "Epoch 88 weight[0.20504312 0.01247434]Total Error: [0]\n",
            "Epoch 88 weight[0.20504312 0.01247434]Total Error: [0]\n",
            "Epoch 88 weight[0.20504312 0.01247434]Total Error: [0]\n",
            "Epoch 88 weight[0.20504312 0.01247434]Total Error: [0]\n",
            "Epoch 89 weight[0.20504312 0.01247434]Total Error: [0]\n",
            "Epoch 89 weight[0.20504312 0.01247434]Total Error: [0]\n",
            "Epoch 89 weight[0.20504312 0.01247434]Total Error: [0]\n",
            "Epoch 89 weight[0.20504312 0.01247434]Total Error: [0]\n",
            "Epoch 90 weight[0.20504312 0.01247434]Total Error: [0]\n",
            "Epoch 90 weight[0.20504312 0.01247434]Total Error: [0]\n",
            "Epoch 90 weight[0.20504312 0.01247434]Total Error: [0]\n",
            "Epoch 90 weight[0.20504312 0.01247434]Total Error: [0]\n",
            "Epoch 91 weight[0.20504312 0.01247434]Total Error: [0]\n",
            "Epoch 91 weight[0.20504312 0.01247434]Total Error: [0]\n",
            "Epoch 91 weight[0.20504312 0.01247434]Total Error: [0]\n",
            "Epoch 91 weight[0.20504312 0.01247434]Total Error: [0]\n",
            "Epoch 92 weight[0.20504312 0.01247434]Total Error: [0]\n",
            "Epoch 92 weight[0.20504312 0.01247434]Total Error: [0]\n",
            "Epoch 92 weight[0.20504312 0.01247434]Total Error: [0]\n",
            "Epoch 92 weight[0.20504312 0.01247434]Total Error: [0]\n",
            "Epoch 93 weight[0.20504312 0.01247434]Total Error: [0]\n",
            "Epoch 93 weight[0.20504312 0.01247434]Total Error: [0]\n",
            "Epoch 93 weight[0.20504312 0.01247434]Total Error: [0]\n",
            "Epoch 93 weight[0.20504312 0.01247434]Total Error: [0]\n",
            "Epoch 94 weight[0.20504312 0.01247434]Total Error: [0]\n",
            "Epoch 94 weight[0.20504312 0.01247434]Total Error: [0]\n",
            "Epoch 94 weight[0.20504312 0.01247434]Total Error: [0]\n",
            "Epoch 94 weight[0.20504312 0.01247434]Total Error: [0]\n",
            "Epoch 95 weight[0.20504312 0.01247434]Total Error: [0]\n",
            "Epoch 95 weight[0.20504312 0.01247434]Total Error: [0]\n",
            "Epoch 95 weight[0.20504312 0.01247434]Total Error: [0]\n",
            "Epoch 95 weight[0.20504312 0.01247434]Total Error: [0]\n",
            "Epoch 96 weight[0.20504312 0.01247434]Total Error: [0]\n",
            "Epoch 96 weight[0.20504312 0.01247434]Total Error: [0]\n",
            "Epoch 96 weight[0.20504312 0.01247434]Total Error: [0]\n",
            "Epoch 96 weight[0.20504312 0.01247434]Total Error: [0]\n",
            "Epoch 97 weight[0.20504312 0.01247434]Total Error: [0]\n",
            "Epoch 97 weight[0.20504312 0.01247434]Total Error: [0]\n",
            "Epoch 97 weight[0.20504312 0.01247434]Total Error: [0]\n",
            "Epoch 97 weight[0.20504312 0.01247434]Total Error: [0]\n",
            "Epoch 98 weight[0.20504312 0.01247434]Total Error: [0]\n",
            "Epoch 98 weight[0.20504312 0.01247434]Total Error: [0]\n",
            "Epoch 98 weight[0.20504312 0.01247434]Total Error: [0]\n",
            "Epoch 98 weight[0.20504312 0.01247434]Total Error: [0]\n",
            "Epoch 99 weight[0.20504312 0.01247434]Total Error: [0]\n",
            "Epoch 99 weight[0.20504312 0.01247434]Total Error: [0]\n",
            "Epoch 99 weight[0.20504312 0.01247434]Total Error: [0]\n",
            "Epoch 99 weight[0.20504312 0.01247434]Total Error: [0]\n"
          ]
        }
      ]
    },
    {
      "cell_type": "code",
      "source": [
        "modelo= predict(imputs)"
      ],
      "metadata": {
        "id": "3wJY84r_9vTE"
      },
      "execution_count": null,
      "outputs": []
    },
    {
      "cell_type": "code",
      "source": [
        "plt.scatter(imputs[:,0],imputs[:,1],marker=\"o\",c=outputs,edgecolor=\"k\")\n",
        "plt.xlabel('A')\n",
        "plt.ylabel('B')\n",
        "plt.title(\"AND\")\n",
        "plt.plot(predict(imputs),color=\"red\")\n",
        "plt.show()"
      ],
      "metadata": {
        "colab": {
          "base_uri": "https://localhost:8080/",
          "height": 472
        },
        "id": "SJoiATaz8JoS",
        "outputId": "d3a563ff-22d3-4bb4-c2f5-0033b98c65ae"
      },
      "execution_count": null,
      "outputs": [
        {
          "output_type": "display_data",
          "data": {
            "text/plain": [
              "<Figure size 640x480 with 1 Axes>"
            ],
            "image/png": "[encoded data removed]"
          },
          "metadata": {}
        }
      ]
    },
    {
      "cell_type": "code",
      "source": [
        "predict(imputs)"
      ],
      "metadata": {
        "colab": {
          "base_uri": "https://localhost:8080/"
        },
        "id": "s9nFER2c1bEe",
        "outputId": "963d879b-2c6d-4ff3-83a9-59f09a754717"
      },
      "execution_count": null,
      "outputs": [
        {
          "output_type": "execute_result",
          "data": {
            "text/plain": [
              "array([0, 0, 0, 1])"
            ]
          },
          "metadata": {},
          "execution_count": 14
        }
      ]
    }
  ]
}